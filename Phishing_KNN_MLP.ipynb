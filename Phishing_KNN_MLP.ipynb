{
 "cells": [
  {
   "cell_type": "code",
   "execution_count": 12,
   "metadata": {},
   "outputs": [],
   "source": [
    "import arff\n",
    "from io import StringIO\n",
    "import numpy as np\n",
    "import pandas as pd\n",
    "import matplotlib.pyplot as plt\n",
    "from sklearn.preprocessing import StandardScaler\n",
    "from sklearn.model_selection import train_test_split\n",
    "from sklearn.model_selection import KFold\n",
    "from sklearn.neighbors import KNeighborsClassifier\n",
    "from sklearn.model_selection import RandomizedSearchCV\n",
    "from sklearn.pipeline import Pipeline\n",
    "import matplotlib.pyplot as plt\n",
    "from sklearn.utils import resample\n",
    "from sklearn.metrics import classification_report\n",
    "from sklearn.model_selection import KFold\n",
    "from sklearn.model_selection import GridSearchCV\n",
    "from sklearn.pipeline import Pipeline\n",
    "from sklearn.preprocessing import StandardScaler\n",
    "from sklearn.calibration import CalibratedClassifierCV\n",
    "from sklearn.feature_selection import SelectFromModel\n",
    "from sklearn.metrics import confusion_matrix\n",
    "from sklearn.decomposition import PCA\n",
    "from sklearn.neural_network import MLPClassifier\n",
    "%matplotlib inline"
   ]
  },
  {
   "cell_type": "code",
   "execution_count": 3,
   "metadata": {},
   "outputs": [],
   "source": [
    "dataset = arff.load(open('./TrainingDataset.arff'))\n",
    "att_list = []\n",
    "for att in dataset['attributes']:\n",
    "    att_list.append(att[0])\n",
    "Traindata = np.array(dataset['data'])\n",
    "Traindata = pd.DataFrame(Traindata, columns=att_list)\n",
    "pd.set_option('display.float_format', lambda x: '%.2f' % x)\n"
   ]
  },
  {
   "cell_type": "code",
   "execution_count": 4,
   "metadata": {},
   "outputs": [],
   "source": [
    "target = Traindata.values[:, len(Traindata.columns) - 1]\n",
    "# target = target.astype('int')\n",
    "Traindata.drop('Result', axis=1, inplace=True)"
   ]
  },
  {
   "cell_type": "code",
   "execution_count": 5,
   "metadata": {},
   "outputs": [
    {
     "data": {
      "image/png": "[encoded data removed]",
      "text/plain": [
       "<Figure size 432x288 with 2 Axes>"
      ]
     },
     "metadata": {
      "needs_background": "light"
     },
     "output_type": "display_data"
    }
   ],
   "source": [
    "Traindata_visual = Traindata.copy()\n",
    "plt.subplot(2, 1, 1)\n",
    "pd.value_counts(Traindata_visual['having_IP_Address']).plot.bar()\n",
    "plt.title('having_IP_Address')\n",
    "plt.subplot(2, 1, 2)\n",
    "pd.value_counts(Traindata_visual['URL_Length']).plot.bar()\n",
    "plt.title('URL_Length')\n",
    "plt.show()"
   ]
  },
  {
   "cell_type": "code",
   "execution_count": 6,
   "metadata": {},
   "outputs": [],
   "source": [
    "scaler = StandardScaler()\n",
    "scaler.fit(Traindata)\n",
    "Traindata = pd.DataFrame(scaler.transform(Traindata), index=Traindata.index, columns=Traindata.columns)\n",
    "\n",
    "feature = Traindata.values\n",
    "\n",
    "feature, feature_test, target, target_test = train_test_split(feature, target, test_size = 0.2, random_state = 42)"
   ]
  },
  {
   "cell_type": "code",
   "execution_count": 9,
   "metadata": {},
   "outputs": [
    {
     "name": "stdout",
     "output_type": "stream",
     "text": [
      "Best max_features: 8\n",
      "Best n_neighbor: 1\n",
      "Best Power parameter for the Minkowski metric: 2\n",
      "Confusion matrix:\n",
      "                  Non-Phishing       Phishing\n",
      "   Non-Phishing           3889             53\n",
      "       Phishing             53           4849\n",
      "              precision    recall  f1-score   support\n",
      "\n",
      "Non-Phishing       0.99      0.99      0.99      3942\n",
      "    Phishing       0.99      0.99      0.99      4902\n",
      "\n",
      "    accuracy                           0.99      8844\n",
      "   macro avg       0.99      0.99      0.99      8844\n",
      "weighted avg       0.99      0.99      0.99      8844\n",
      "\n",
      "Misclassified sample: 106\n"
     ]
    }
   ],
   "source": [
    "kfold = KFold(n_splits=10, shuffle=True, random_state=1)\n",
    "\n",
    "# Build Pipeline \n",
    "# Pass our pipeline in to GridSearchCV can help us to tuning hypermeter with K-Fold cross validation\n",
    "pipe = Pipeline([\n",
    "    ('feature_selection', PCA()),\n",
    "    ('model', KNeighborsClassifier(algorithm='kd_tree'))])\n",
    "\n",
    "param_grid = {\n",
    "    'feature_selection__n_components':[2, 4, 6, 8, 10, 12, 14],\n",
    "    'model__n_neighbors': [1, 3, 5, 7, 9],\n",
    "    'model__p':[1,2]\n",
    "}\n",
    "\n",
    "best_knn = GridSearchCV(pipe, param_grid, cv=kfold, n_jobs=32)\n",
    "#train forest model\n",
    "best_knn.fit(feature,target)\n",
    "\n",
    "target_pred_knn = best_knn.predict(feature)\n",
    "print(\"Best max_features:\",best_knn.best_estimator_.get_params()['steps'][0][1].n_components)\n",
    "print(\"Best n_neighbor:\",best_knn.best_estimator_.get_params()['steps'][1][1].n_neighbors)\n",
    "print(\"Best Power parameter for the Minkowski metric:\",best_knn.best_estimator_.get_params()['steps'][1][1].p)\n",
    "print(\"Confusion matrix:\")\n",
    "class_list = ['Non-Phishing','Phishing']\n",
    "row_format =\"{:>15}\" * (len(class_list) + 1)\n",
    "\n",
    "print(row_format.format(\"\", *class_list))\n",
    "for team, row in zip(class_list, confusion_matrix(target,target_pred_knn)):\n",
    "    print(row_format.format(team, *row))\n",
    "print(classification_report(target, target_pred_knn,target_names=class_list))\n",
    "print(\"Misclassified sample: %d\" % (target != target_pred_knn).sum())"
   ]
  },
  {
   "cell_type": "code",
   "execution_count": 20,
   "metadata": {},
   "outputs": [
    {
     "name": "stdout",
     "output_type": "stream",
     "text": [
      "Best max_features: (128,)\n",
      "Best n_neighbor: logistic\n",
      "Best n_neighbor: adam\n",
      "Best n_neighbor: constant\n",
      "Best n_neighbor: 0.01\n",
      "Confusion matrix:\n",
      "                  Non-Phishing       Phishing\n",
      "   Non-Phishing           3856             86\n",
      "       Phishing              9           4893\n",
      "              precision    recall  f1-score   support\n",
      "\n",
      "Non-Phishing       1.00      0.98      0.99      3942\n",
      "    Phishing       0.98      1.00      0.99      4902\n",
      "\n",
      "    accuracy                           0.99      8844\n",
      "   macro avg       0.99      0.99      0.99      8844\n",
      "weighted avg       0.99      0.99      0.99      8844\n",
      "\n",
      "Misclassified sample: 95\n"
     ]
    }
   ],
   "source": [
    "kfold = KFold(n_splits=10, shuffle=True, random_state=1)\n",
    "\n",
    "# Build Pipeline \n",
    "# Pass our pipeline in to GridSearchCV can help us to tuning hypermeter with K-Fold cross validation\n",
    "pipe = Pipeline([\n",
    "    ('model', MLPClassifier())])\n",
    "\n",
    "param_grid = {\n",
    "    'model__hidden_layer_sizes':[(16,),(32,),(64,),(128,),(16,4),(32,8),(64,16,4),(128,64,16)],\n",
    "    'model__activation': ['identity', 'logistic', 'tanh', 'relu'],\n",
    "    'model__solver':['lbfgs', 'sgd', 'adam'],\n",
    "    'model__learning_rate':['constant', 'invscaling', 'adaptive'],\n",
    "    'model__learning_rate_init':[0.01,0.001]\n",
    "}\n",
    "\n",
    "best_mlp = GridSearchCV(pipe, param_grid, cv=kfold, n_jobs=8)\n",
    "#train forest model\n",
    "best_mlp.fit(feature,target)\n",
    "\n",
    "target_pred_mlp = best_mlp.predict(feature)\n",
    "print(\"Best max_features:\",best_mlp.best_estimator_.get_params()['steps'][0][1].hidden_layer_sizes)\n",
    "print(\"Best n_neighbor:\",best_mlp.best_estimator_.get_params()['steps'][0][1].activation)\n",
    "print(\"Best n_neighbor:\",best_mlp.best_estimator_.get_params()['steps'][0][1].solver)\n",
    "print(\"Best n_neighbor:\",best_mlp.best_estimator_.get_params()['steps'][0][1].learning_rate)\n",
    "print(\"Best n_neighbor:\",best_mlp.best_estimator_.get_params()['steps'][0][1].learning_rate_init)\n",
    "\n",
    "print(\"Confusion matrix:\")\n",
    "class_list = ['Non-Phishing','Phishing']\n",
    "row_format =\"{:>15}\" * (len(class_list) + 1)\n",
    "\n",
    "print(row_format.format(\"\", *class_list))\n",
    "for team, row in zip(class_list, confusion_matrix(target,target_pred_mlp)):\n",
    "    print(row_format.format(team, *row))\n",
    "print(classification_report(target, target_pred_mlp,target_names=class_list))\n",
    "print(\"Misclassified sample: %d\" % (target != target_pred_mlp).sum())"
   ]
  }
 ],
 "metadata": {
  "kernelspec": {
   "display_name": "Python 3",
   "language": "python",
   "name": "python3"
  },
  "language_info": {
   "codemirror_mode": {
    "name": "ipython",
    "version": 3
   },
   "file_extension": ".py",
   "mimetype": "text/x-python",
   "name": "python",
   "nbconvert_exporter": "python",
   "pygments_lexer": "ipython3",
   "version": "3.6.9"
  }
 },
 "nbformat": 4,
 "nbformat_minor": 4
}
