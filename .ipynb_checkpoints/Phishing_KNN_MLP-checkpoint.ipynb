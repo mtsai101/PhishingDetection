{
 "cells": [
  {
   "cell_type": "code",
   "execution_count": 1,
   "metadata": {},
   "outputs": [],
   "source": [
    "from io import StringIO\n",
    "import numpy as np\n",
    "import pandas as pd\n",
    "import matplotlib.pyplot as plt\n",
    "from sklearn.preprocessing import StandardScaler\n",
    "from sklearn.preprocessing import LabelEncoder\n",
    "from sklearn.model_selection import train_test_split\n",
    "from sklearn.model_selection import KFold\n",
    "from sklearn.neighbors import KNeighborsClassifier\n",
    "from sklearn.model_selection import RandomizedSearchCV\n",
    "from sklearn.pipeline import Pipeline\n",
    "import matplotlib.pyplot as plt\n",
    "from sklearn.utils import resample\n",
    "from sklearn.metrics import classification_report\n",
    "from sklearn.model_selection import KFold\n",
    "from sklearn.model_selection import GridSearchCV\n",
    "from sklearn.pipeline import Pipeline\n",
    "from sklearn.preprocessing import StandardScaler\n",
    "from sklearn.calibration import CalibratedClassifierCV\n",
    "from sklearn.feature_selection import SelectFromModel\n",
    "from sklearn.metrics import confusion_matrix\n",
    "from sklearn.decomposition import PCA\n",
    "from sklearn.neural_network import MLPClassifier\n",
    "from sklearn.impute import SimpleImputer\n",
    "\n",
    "%matplotlib inline"
   ]
  },
  {
   "cell_type": "code",
   "execution_count": 2,
   "metadata": {},
   "outputs": [
    {
     "name": "stderr",
     "output_type": "stream",
     "text": [
      "/home/min0920/PhishingDetection/venv/lib/python3.5/site-packages/IPython/core/interactiveshell.py:3058: DtypeWarning: Columns (31) have mixed types. Specify dtype option on import or set low_memory=False.\n",
      "  interactivity=interactivity, compiler=compiler, result=result)\n"
     ]
    }
   ],
   "source": [
    "\"\"\"\n",
    "    arff\n",
    "\"\"\"\n",
    "# dataset = arff.load(open('./TrainingDataset.arff'))\n",
    "# att_list = []\n",
    "# for att in dataset['attributes']:\n",
    "#     att_list.append(att[0])\n",
    "# Traindata = np.array(dataset['data'])\n",
    "# Traindata = pd.DataFrame(Traindata, columns=att_list)\n",
    "# pd.set_option('display.float_format', lambda x: '%.2f' % x)\n",
    "# target = Traindata.values[:, len(Traindata.columns) - 1]\n",
    "# Traindata.drop('Result', axis=1, inplace=True)\n",
    "\"\"\"\n",
    "    csv\n",
    "\"\"\"\n",
    "pd.set_option('display.float_format', lambda x: '%.2f' % x)\n",
    "dataset = pd.read_csv('./dataset/UNB_ISCXURL_2016/All.csv')\n",
    "dataset = dataset.fillna(-1)\n",
    "imp = SimpleImputer(missing_values=np.inf, strategy='constant',fill_value=1)\n",
    "imp.fit_transform(dataset)\n",
    "\n",
    "le = LabelEncoder()\n",
    "dataset['URL_Type_obf_Type'] = le.fit_transform(dataset['URL_Type_obf_Type'])\n",
    "Traindata = dataset.astype('float64')\n",
    "target = Traindata.values[:, len(Traindata.columns) - 1]\n",
    "Traindata.drop('URL_Type_obf_Type', axis=1, inplace=True)"
   ]
  },
  {
   "cell_type": "code",
   "execution_count": 34,
   "metadata": {},
   "outputs": [
    {
     "data": {
      "text/plain": [
       "['Defacement', 'benign', 'malware', 'phishing', 'spam']"
      ]
     },
     "execution_count": 34,
     "metadata": {},
     "output_type": "execute_result"
    }
   ],
   "source": [
    "list(le.classes_)"
   ]
  },
  {
   "cell_type": "code",
   "execution_count": 15,
   "metadata": {},
   "outputs": [
    {
     "data": {
      "text/plain": [
       "<matplotlib.axes._subplots.AxesSubplot at 0x7ff1cfca4cf8>"
      ]
     },
     "execution_count": 15,
     "metadata": {},
     "output_type": "execute_result"
    },
    {
     "data": {
      "image/png": "[encoded data removed]",
      "text/plain": [
       "<Figure size 432x288 with 1 Axes>"
      ]
     },
     "metadata": {
      "needs_background": "light"
     },
     "output_type": "display_data"
    }
   ],
   "source": [
    "class_num = Traindata['URL_Type_obf_Type'].value_counts()\n",
    "class_num.plot(kind='bar', title='Count (class)')"
   ]
  },
  {
   "cell_type": "code",
   "execution_count": 3,
   "metadata": {},
   "outputs": [],
   "source": [
    "# deal with infinity\n",
    "# large = 0\n",
    "# least = 0\n",
    "# for k,i in enumerate(Traindata['argPathRatio']):\n",
    "#     if Traindata['argPathRatio'][k]>=large:\n",
    "#         if not np.isinf(Traindata['argPathRatio'][k]): \n",
    "#             large = Traindata['argPathRatio'][k]\n",
    "#     elif Traindata['argPathRatio'][k]<least:\n",
    "#         least = Traindata['argPathRatio'][k]\n",
    "\n",
    "for k,i in enumerate(Traindata['argPathRatio']):\n",
    "    if np.isinf(Traindata['argPathRatio'][k]): \n",
    "        Traindata['argPathRatio'][k] = 2.0"
   ]
  },
  {
   "cell_type": "code",
   "execution_count": 4,
   "metadata": {},
   "outputs": [],
   "source": [
    "scaler = StandardScaler()\n",
    "scaler.fit(Traindata)\n",
    "    \n",
    "Traindata = pd.DataFrame(scaler.transform(Traindata), index=Traindata.index, columns=Traindata.columns)\n",
    "\n",
    "feature = Traindata.values\n",
    "\n",
    "feature, feature_test, target, target_test = train_test_split(feature, target, test_size = 0.2, random_state = 42)"
   ]
  },
  {
   "cell_type": "code",
   "execution_count": 8,
   "metadata": {},
   "outputs": [
    {
     "name": "stdout",
     "output_type": "stream",
     "text": [
      "Best max_features: 64\n",
      "Best n_neighbor: 1\n",
      "Best Power parameter for the Minkowski metric: 1\n",
      "Confusion matrix:\n",
      "                    Defacement         benign        malware       phishing           spam\n",
      "     Defacement           6302              0              0              0              0\n",
      "         benign              0           6255              0              0              0\n",
      "        malware              0              0           5380              0              0\n",
      "       phishing              0              0              0           6089              0\n",
      "           spam              0              0              0              0           5339\n",
      "              precision    recall  f1-score   support\n",
      "\n",
      "  Defacement       1.00      1.00      1.00      6302\n",
      "      benign       1.00      1.00      1.00      6255\n",
      "     malware       1.00      1.00      1.00      5380\n",
      "    phishing       1.00      1.00      1.00      6089\n",
      "        spam       1.00      1.00      1.00      5339\n",
      "\n",
      "    accuracy                           1.00     29365\n",
      "   macro avg       1.00      1.00      1.00     29365\n",
      "weighted avg       1.00      1.00      1.00     29365\n",
      "\n",
      "Misclassified sample: 0\n"
     ]
    }
   ],
   "source": [
    "kfold = KFold(n_splits=10, shuffle=True, random_state=1)\n",
    "\n",
    "# Build Pipeline \n",
    "# Pass our pipeline in to GridSearchCV can help us to tuning hypermeter with K-Fold cross validation\n",
    "pipe = Pipeline([\n",
    "    ('feature_selection', PCA()),\n",
    "    ('model', KNeighborsClassifier(algorithm='kd_tree'))])\n",
    "\n",
    "param_grid = {\n",
    "    'feature_selection__n_components':[2,4,8,16,32,64],\n",
    "    'model__n_neighbors': [1, 3, 5, 7, 9],\n",
    "    'model__p':[1,2]\n",
    "}\n",
    "\n",
    "best_knn = GridSearchCV(pipe, param_grid, cv=kfold, n_jobs=32)\n",
    "#train forest model\n",
    "best_knn.fit(feature,target)\n",
    "\n",
    "target_pred_knn = best_knn.predict(feature)\n",
    "print(\"Best max_features:\",best_knn.best_estimator_.get_params()['steps'][0][1].n_components)\n",
    "print(\"Best n_neighbor:\",best_knn.best_estimator_.get_params()['steps'][1][1].n_neighbors)\n",
    "print(\"Best Power parameter for the Minkowski metric:\",best_knn.best_estimator_.get_params()['steps'][1][1].p)\n",
    "print(\"Confusion matrix:\")\n",
    "class_list = list(le.classes_)\n",
    "row_format =\"{:>15}\" * (len(class_list) + 1)\n",
    "\n",
    "print(row_format.format(\"\", *class_list))\n",
    "for team, row in zip(class_list, confusion_matrix(target,target_pred_knn)):\n",
    "    print(row_format.format(team, *row))\n",
    "print(classification_report(target, target_pred_knn,target_names=class_list))\n",
    "print(\"Misclassified sample: %d\" % (target != target_pred_knn).sum())"
   ]
  },
  {
   "cell_type": "code",
   "execution_count": 9,
   "metadata": {},
   "outputs": [
    {
     "name": "stdout",
     "output_type": "stream",
     "text": [
      "Confusion matrix:\n",
      "                    Defacement         benign        malware       phishing           spam\n",
      "     Defacement           1599              2              5             18              4\n",
      "         benign              2           1501             10             13              0\n",
      "        malware              3              4           1307             16              2\n",
      "       phishing             49             35             22           1361             30\n",
      "           spam             13              1              1              8           1336\n",
      "              precision    recall  f1-score   support\n",
      "\n",
      "  Defacement       0.96      0.98      0.97      1628\n",
      "      benign       0.97      0.98      0.98      1526\n",
      "     malware       0.97      0.98      0.98      1332\n",
      "    phishing       0.96      0.91      0.93      1497\n",
      "        spam       0.97      0.98      0.98      1359\n",
      "\n",
      "    accuracy                           0.97      7342\n",
      "   macro avg       0.97      0.97      0.97      7342\n",
      "weighted avg       0.97      0.97      0.97      7342\n",
      "\n",
      "Misclassified sample: 238\n"
     ]
    }
   ],
   "source": [
    "## KNN testing set\n",
    "target_test_pred_knn = best_knn.predict(feature_test)\n",
    "print(\"Confusion matrix:\")\n",
    "print(row_format.format(\"\", *class_list))\n",
    "for team, row in zip(class_list, confusion_matrix(target_test,target_test_pred_knn)):\n",
    "    print(row_format.format(team, *row))\n",
    "print(classification_report(target_test, target_test_pred_knn,target_names=class_list))\n",
    "print(\"Misclassified sample: %d\" % (target_test != target_test_pred_knn).sum())"
   ]
  },
  {
   "cell_type": "code",
   "execution_count": 5,
   "metadata": {},
   "outputs": [
    {
     "name": "stderr",
     "output_type": "stream",
     "text": [
      "/home/min0920/PhishingDetection/venv/lib/python3.5/site-packages/sklearn/neural_network/_multilayer_perceptron.py:571: ConvergenceWarning: Stochastic Optimizer: Maximum iterations (200) reached and the optimization hasn't converged yet.\n",
      "  % self.max_iter, ConvergenceWarning)\n"
     ]
    },
    {
     "name": "stdout",
     "output_type": "stream",
     "text": [
      "Best max_features: (128, 64, 16)\n",
      "Best n_neighbor: relu\n",
      "Best n_neighbor: sgd\n",
      "Best n_neighbor: adaptive\n",
      "Best n_neighbor: 0.01\n",
      "Confusion matrix:\n",
      "                    Defacement         benign        malware       phishing           spam\n",
      "     Defacement           6299              0              0              3              0\n",
      "         benign              0           6254              0              1              0\n",
      "        malware              0              0           5375              5              0\n",
      "       phishing              2              0              0           6087              0\n",
      "           spam              0              0              0              0           5339\n",
      "              precision    recall  f1-score   support\n",
      "\n",
      "  Defacement       1.00      1.00      1.00      6302\n",
      "      benign       1.00      1.00      1.00      6255\n",
      "     malware       1.00      1.00      1.00      5380\n",
      "    phishing       1.00      1.00      1.00      6089\n",
      "        spam       1.00      1.00      1.00      5339\n",
      "\n",
      "    accuracy                           1.00     29365\n",
      "   macro avg       1.00      1.00      1.00     29365\n",
      "weighted avg       1.00      1.00      1.00     29365\n",
      "\n",
      "Misclassified sample: 11\n"
     ]
    }
   ],
   "source": [
    "kfold = KFold(n_splits=10, shuffle=True, random_state=1)\n",
    "\n",
    "# Build Pipeline \n",
    "# Pass our pipeline in to GridSearchCV can help us to tuning hypermeter with K-Fold cross validation\n",
    "pipe = Pipeline([\n",
    "    ('model', MLPClassifier())])\n",
    "\n",
    "param_grid = {\n",
    "#     'model__hidden_layer_sizes':[(16,),(32,),(64,),(128,),(16,4),(32,8),(64,16,4),(128,64,16)],\n",
    "#     'model__activation': ['identity', 'logistic', 'tanh', 'relu'],\n",
    "#     'model__solver':['sgd', 'adam'],\n",
    "#     'model__learning_rate':['constant', 'invscaling', 'adaptive'],\n",
    "#     'model__learning_rate_init':[0.01]\n",
    "    \n",
    "    'model__hidden_layer_sizes':[(128,64,16)],\n",
    "    'model__activation': [ 'relu'],\n",
    "    'model__solver':['sgd'],\n",
    "    'model__learning_rate':['adaptive'],\n",
    "    'model__learning_rate_init':[0.01]\n",
    "}\n",
    "\n",
    "best_mlp = GridSearchCV(pipe, param_grid, cv=kfold, n_jobs=-1)\n",
    "#train forest model\n",
    "best_mlp.fit(feature,target)\n",
    "\n",
    "target_pred_mlp = best_mlp.predict(feature)\n",
    "print(\"Best max_features:\",best_mlp.best_estimator_.get_params()['steps'][0][1].hidden_layer_sizes)\n",
    "print(\"Best n_neighbor:\",best_mlp.best_estimator_.get_params()['steps'][0][1].activation)\n",
    "print(\"Best n_neighbor:\",best_mlp.best_estimator_.get_params()['steps'][0][1].solver)\n",
    "print(\"Best n_neighbor:\",best_mlp.best_estimator_.get_params()['steps'][0][1].learning_rate)\n",
    "print(\"Best n_neighbor:\",best_mlp.best_estimator_.get_params()['steps'][0][1].learning_rate_init)\n",
    "\n",
    "print(\"Confusion matrix:\")\n",
    "class_list = list(le.classes_)\n",
    "row_format =\"{:>15}\" * (len(class_list) + 1)\n",
    "\n",
    "print(row_format.format(\"\", *class_list))\n",
    "for team, row in zip(class_list, confusion_matrix(target,target_pred_mlp)):\n",
    "    print(row_format.format(team, *row))\n",
    "print(classification_report(target, target_pred_mlp,target_names=class_list))\n",
    "print(\"Misclassified sample: %d\" % (target != target_pred_mlp).sum())"
   ]
  },
  {
   "cell_type": "code",
   "execution_count": 7,
   "metadata": {},
   "outputs": [
    {
     "name": "stdout",
     "output_type": "stream",
     "text": [
      "Confusion matrix:\n",
      "                    Defacement         benign        malware       phishing           spam\n",
      "     Defacement           1592              1              3             30              2\n",
      "         benign              2           1496              8             19              1\n",
      "        malware              3              1           1310             16              2\n",
      "       phishing             22             33             16           1403             23\n",
      "           spam              4              3              1             10           1341\n",
      "              precision    recall  f1-score   support\n",
      "\n",
      "  Defacement       0.98      0.98      0.98      1628\n",
      "      benign       0.98      0.98      0.98      1526\n",
      "     malware       0.98      0.98      0.98      1332\n",
      "    phishing       0.95      0.94      0.94      1497\n",
      "        spam       0.98      0.99      0.98      1359\n",
      "\n",
      "    accuracy                           0.97      7342\n",
      "   macro avg       0.97      0.97      0.97      7342\n",
      "weighted avg       0.97      0.97      0.97      7342\n",
      "\n",
      "Misclassified sample: 200\n"
     ]
    }
   ],
   "source": [
    "target_test_pred_mlp = best_mlp.predict(feature_test)\n",
    " \n",
    "print(\"Confusion matrix:\")\n",
    "class_list = list(le.classes_)\n",
    "row_format =\"{:>15}\" * (len(class_list) + 1)\n",
    "\n",
    "print(row_format.format(\"\", *class_list))\n",
    "for team, row in zip(class_list, confusion_matrix(target_test,target_test_pred_mlp)):\n",
    "    print(row_format.format(team, *row))\n",
    "print(classification_report(target_test, target_test_pred_mlp,target_names=class_list))\n",
    "print(\"Misclassified sample: %d\" % (target_test != target_test_pred_mlp).sum())"
   ]
  }
 ],
 "metadata": {
  "kernelspec": {
   "display_name": "Python 3",
   "language": "python",
   "name": "python3"
  },
  "language_info": {
   "codemirror_mode": {
    "name": "ipython",
    "version": 3
   },
   "file_extension": ".py",
   "mimetype": "text/x-python",
   "name": "python",
   "nbconvert_exporter": "python",
   "pygments_lexer": "ipython3",
   "version": "3.5.2"
  }
 },
 "nbformat": 4,
 "nbformat_minor": 4
}
